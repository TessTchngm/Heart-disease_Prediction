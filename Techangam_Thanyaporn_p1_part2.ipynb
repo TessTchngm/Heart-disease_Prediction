{
 "cells": [
  {
   "cell_type": "markdown",
   "id": "6f97f863",
   "metadata": {},
   "source": [
    "#  1) Problem Introduction & Motivation\n",
    "\n",
    "   As my family has a heart disease background for a really long time, my grandfather had it before he passed, my cousins have it. Therefore, I know how severe this disease can be and how hard to cope with it. That is why I want to come up with a way to predict whether which/ how many symptoms or factors that tend to indicate a sign of heart disease. If that can be possible, atleast more or less, people can prevent the severity by contacting doctor before their conditions will get worse.    \n",
    "  \n",
    "  Digging into the internet, I found out that there are around 550 million individuals worldwide, or 1 in 14 of us known to be suffering from cardiovascular diseases **:(**. Moreover, heart disease is **THE NUMBER ONE** cause of death for both men and women in the United States. It accounts for 40% of all U.S. deaths, more than all forms of cancer combined! These reports issue the fact that this is a serious disease which we should be precautious about. \n",
    "   \n",
    "  Heart disease also, costs the United States Healthcare 316.4 billion annually and causing 147 billion in lost productivity on the job. All facts mentioned inevitably require a way to help screening the tendency to have a heart disease. The sooner the better. Thus, one of the ways to help is to use Machine learning techniques by buiding a model which can simulate the factors and providing risk tendency of having a heart disease result to patient. Providing a chance for them to treat it sooner before it is too late. \n",
    "  \n",
    "**Actually there are tons of researches/ articles that can be very useful in these project!!!**     \n",
    " #### References :\n",
    "https://medicaltravelmarket.com/news/heart-disease-worldwide-facts-prevalence\n",
    "\n",
    "https://www.nebraskamed.com/heart/serious-as-a-heart-attack\n",
    "\n",
    "https://www.cdc.gov/heartdisease/facts.htm\n",
    "\n",
    "https://www.heart.org/en/news/2019/01/31/cardiovascular-diseases-affect-nearly-half-of-american-adults-statistics-show\n",
    "\n",
    "https://www.factretriever.com/heart-disease-facts\n",
    "\n",
    "<img src=\"https://i.pinimg.com/originals/14/1b/19/141b1970de8a0c17ed6e87db2d3647f7.png\"/>\n",
    "<img src=\"https://www.nebraskamed.com/sites/default/files/images/heart%20care/9992-Heart-Disease_Facts-01.jpg\"/>\n"
   ]
  },
  {
   "cell_type": "markdown",
   "id": "be84cc3f",
   "metadata": {},
   "source": [
    "#### Questions to think about after doing the research about heart disease and before doing all the rest that has to be done:\n",
    "- How up-to-date my data should be? How much out-dated can data be?\n",
    "- What period range  my data should cover?\n",
    "- How and where can I collect the data to perform a model from ML?\n",
    "- If self-gathering data is required, should I collect them through interview? or should I collect them through online questionaire form? Should I hire outsources? if so, What are the costs if there is no trace in the internet?\n",
    "- How to make people answering to my questions with genuinity? \n",
    "- How long it should take to conduct a model? Timeframe?\n",
    "\n"
   ]
  },
  {
   "cell_type": "markdown",
   "id": "69e7d9d2",
   "metadata": {},
   "source": [
    "# 2) Defining goals"
   ]
  },
  {
   "cell_type": "markdown",
   "id": "df549146",
   "metadata": {},
   "source": [
    "#### Questions to think about goals in general:\n",
    "- What is my goal from this model prediction?\n",
    "- Once the model is being done, who will get the most advantage from this? Which sections should I reach out first and will interest in my predictive model? Hospital? Insurance company? \n",
    "- Can I monetize the data? Is there ROI? Do I consider this a social responsible project condicting for free?\n",
    "- Can I get sue from this if my model is unreliable?\n",
    " \n",
    " <span style=\"color:red\"><b>**MAKE SURE** to check limitations or challenges before working on buding model such as laws, data ownership, the availability of data and so on.</b></span>"
   ]
  },
  {
   "cell_type": "markdown",
   "id": "5d390a59",
   "metadata": {},
   "source": [
    "## Import Package decisions\n",
    "\n",
    "#### Questions to ask myself before import all the Packages:\n",
    "- Is my data really a Linear model? Can it plot into a straight line graph?\n",
    "- What model should I use? LogisticRegression? OLS? others? \n",
    "\n",
    "### Future references use:\n",
    "<span style=\"color:orange\"><b>NOTE: Incase my datatable needs to merge or combine to other tables! [Read this link to do so (:](https://jakevdp.github.io/PythonDataScienceHandbook/03.07-merge-and-join.html#:~:text=To%20combine%20this%20information%20into%20a%20single%20DataFrame%2C,automatically%20joins%20using%20this%20column%20as%20a%20key.)</b></span>\n",
    "\n",
    "#### First things to do when decided to build a model!!!\n",
    "\n",
    " **1. Import pandas:** [What is pandas and how to use it](https://www.w3schools.com/python/pandas/pandas_intro.asp)\n",
    " \n",
    " **- remember to shorten the words by 'as' to help make things easier!**\n",
    " \n",
    " **2. Use SKLearn:** [What is SKLearn?](https://scikit-learn.org/stable/getting_started.html)\n",
    " \n",
    " **3. Decide which Linear model to use:** [LogisticRegression and when to use it](https://realpython.com/linear-regression-in-python/#what-is-regression) **<span style=\"color:red\"><b>(Frequently use! to predict target variable(y) including this heart disease prediction model!!!)</b></span>**\n",
    "| [OLS and when to use it ](https://scikit-learn.org/stable/modules/linear_model.html#ordinary-least-squares)| [other model functions and when to use them](https://scikit-learn.org/stable/modules/linear_model.html#)\n",
    "\n",
    " **4. Quantify the quality of predictions (as I need to check the accuracy of the model I predicted):** [The scoring parameters](https://scikit-learn.org/stable/modules/model_evaluation.html) \n",
    " \n",
    " **5. Import Pickle library to save resouce+ save time: What is Pickle? Why use Pickle? <span style=\"color:red\"><b>Read all these link to be sure!</b></span>** [Link1](https://python3.wannaphong.com/2015/04/pickle-python.html#:~:text=%E0%B9%84%E0%B8%A5%E0%B8%9A%E0%B8%A3%E0%B8%B2%E0%B8%A3%E0%B8%B5%20pickle%20%E0%B9%80%E0%B8%9B%E0%B9%87%E0%B8%99%E0%B9%84%E0%B8%A5%E0%B8%9A%E0%B8%A3%E0%B8%B2%E0%B8%A3%E0%B8%B5%E0%B8%AA%E0%B8%B3%E0%B8%AB%E0%B8%A3%E0%B8%B1%E0%B8%9A%E0%B9%83%E0%B8%8A%E0%B9%89%E0%B9%82%E0%B8%9B%E0%B8%A3%E0%B9%82%E0%B8%95%E0%B8%84%E0%B8%AD%E0%B8%A5%E0%B9%81%E0%B8%9A%E0%B8%9A%E0%B9%84%E0%B8%9A%E0%B8%99%E0%B8%B2%E0%B8%A3%E0%B8%B5%E0%B8%AA%E0%B8%B3%E0%B8%AB%E0%B8%A3%E0%B8%B1%E0%B8%9A%20serializing%20%E0%B9%81%E0%B8%A5%E0%B8%B0%20de-serializing%20%E0%B9%82%E0%B8%84%E0%B8%A3%E0%B8%87%E0%B8%AA%E0%B8%A3%E0%B9%89%E0%B8%B2%E0%B8%87%E0%B8%A7%E0%B8%B1%E0%B8%95%E0%B8%96%E0%B8%B8%E0%B8%82%E0%B8%AD%E0%B8%87%20Python,%28persistence%29%20%E0%B8%81%E0%B8%B2%E0%B8%A3%E0%B8%AA%E0%B9%88%E0%B8%87%E0%B8%82%E0%B9%89%E0%B8%AD%E0%B8%A1%E0%B8%B9%E0%B8%A5%20Python%20%E0%B8%9C%E0%B9%88%E0%B8%B2%E0%B8%99%E0%B8%81%E0%B8%B2%E0%B8%A3%E0%B9%80%E0%B8%8A%E0%B8%B7%E0%B9%88%E0%B8%AD%E0%B8%A1%E0%B8%95%E0%B9%88%E0%B8%AD%20TCP%20%E0%B9%83%E0%B8%99%20multi-core%20%28marshalling%29)|[Link2](https://arnondora.in.th/how-to-pickle-and-unpickle-python/)|[Link3](https://docs.python.org/2/library/pickle.html)\n",
    " \n",
    " **- NOTE** that there are other library as well. For example, **Json library** which is for text format data which will keep data by key, value [LINK](https://www.borntodev.com/2020/02/28/what-is-json/#:~:text=JSON%20%E0%B9%80%E0%B8%9B%E0%B9%87%E0%B8%99%E0%B8%82%E0%B9%89%E0%B8%AD%E0%B8%A1%E0%B8%B9%E0%B8%A5%E0%B8%A3%E0%B8%B9%E0%B8%9B%E0%B9%81%E0%B8%9A%E0%B8%9A%20text%20%E0%B8%97%E0%B8%B5%E0%B9%88%E0%B8%A1%E0%B8%B5%E0%B8%A3%E0%B8%B9%E0%B8%9B%E0%B9%81%E0%B8%9A%E0%B8%9A%E0%B8%97%E0%B8%B5%E0%B9%88%E0%B8%88%E0%B8%B0%E0%B9%80%E0%B8%81%E0%B9%87%E0%B8%9A%E0%B8%82%E0%B9%89%E0%B8%AD%E0%B8%A1%E0%B8%B9%E0%B8%A5%E0%B9%81%E0%B8%9A%E0%B8%9A%20key%2C%20value%20%E0%B9%82%E0%B8%94%E0%B8%A2%E0%B8%81%E0%B8%B2%E0%B8%A3%E0%B9%80%E0%B8%82%E0%B8%B5%E0%B8%A2%E0%B8%99%E0%B8%82%E0%B9%89%E0%B8%AD%E0%B8%A1%E0%B8%B9%E0%B8%A5%E0%B8%8A%E0%B8%99%E0%B8%B4%E0%B8%94%20JSON,%27%20%7B%22key%22%3A%20%22value%22%7D%27%20%E0%B8%9B%E0%B8%A3%E0%B8%B0%E0%B9%80%E0%B8%A0%E0%B8%97%E0%B8%82%E0%B9%89%E0%B8%AD%E0%B8%A1%E0%B8%B9%E0%B8%A5%E0%B8%97%E0%B8%B5%E0%B9%88%20JSON%20%E0%B9%80%E0%B8%81%E0%B9%87%E0%B8%9A%E0%B9%84%E0%B8%94%E0%B9%89%E0%B8%A1%E0%B8%B5%E0%B8%94%E0%B8%B1%E0%B8%87%E0%B8%99%E0%B8%B5%E0%B9%89%20string%20number)"
   ]
  },
  {
   "cell_type": "code",
   "execution_count": 68,
   "id": "48e6467c",
   "metadata": {},
   "outputs": [],
   "source": [
    "import pandas as pd                                    # Doing this to import \"pandas\" which is one of the python packages\n",
    "                                                       # and shorten it as \"pd\" word to read + manage + analyze my data.\n",
    "    \n",
    "from sklearn.linear_model import LogisticRegression    # \"SKLEARN\" is a Machine learning library in python. It helps to \n",
    "                                                       # create a model we are interesting in doing predictive data analysis.    \n",
    "                                                       \n",
    "                                                       # Extracting Logistic Regression model function from linear model \n",
    "                                                       # which is a class from the sklearn library to build a desire model or\n",
    "                                                       # predict the relationship between target and predictor variables.\n",
    "                                \n",
    "from sklearn.metrics import accuracy_score             # Extracting \"accuracy_score\" function to check how accurate the model \n",
    "                                                       # I am build is from \".metrics\" classification within the sklearn \n",
    "                                                       # library.\n",
    "    \n",
    "import pickle                                          # \"Pickle\" is a library to help keeping an object in Python as  \n",
    "                                                       # a file form by changing it into Byte Stream and convert back to \n",
    "                                                       # the same object when wanting to use it again (Object Serialisation).\n",
    "        \n",
    "                                                       # This helps making the data less complicated to use.\n",
    "      "
   ]
  },
  {
   "cell_type": "markdown",
   "id": "cbf1df1a",
   "metadata": {},
   "source": [
    "# 3) Data Preparation/ Getting the data\n"
   ]
  },
  {
   "cell_type": "markdown",
   "id": "a372beb4",
   "metadata": {},
   "source": [
    "#### Questions before creating data (Incase  in the real situation where the data is not clean!)\n",
    "\n",
    "**Collecting data:**\n",
    "- [ ] Catagoristics of people that fit the criteria to be my sample group?\n",
    "- [ ] What form should I present to the patients in order for them to fill out data conveniently? interview? Website form? or Questionaire form?\n",
    "- [ ] Can my data represent all of the population? How many sample surveys or interviews should I get?\n",
    "- [ ] Do internet provide relevant data?\n",
    "- [ ] How can I be sure that the data are legit and have no biased?\n",
    ">**Make sure that it is a random survey to avoid biased! Unless I get lucky enough to have raw data from reliable source, that will help save lots of time and costs.** \n",
    "\n",
    "**Clean data:**\n",
    "- [ ] How to clean data in the most efficient way? Any duplicates, Any outliers or anomalities? What can be a cause of data flaws? \n",
    "- [ ] Which types should each of my predictor variable and Target variable be conducted in? Dummy? Integer? Character? Float? Boolean? Or string?\n",
    "- [ ] What should I do with missing data (NULL)? Should I input mean value in or else?  \n",
    "- [ ] Is there any risks related to my model?\n",
    " \n",
    "**Label data:**\n",
    "- [ ] What is my Hypothesis? which factors I think will relate to an inclination of getting a heart disease? \n",
    "- [ ] What should my data contain of? How many columns of data features (factors/ predictor variables) do I need?\n",
    "- [ ] How should I name each feature (columns name) in the easiest possible way to understand?  \n",
    "- [ ] What is the target variable of my model?\n",
    "\n",
    "**Validate data:**\n",
    "- [ ] To prepare data to be ready for Machine Learning, Should I do the visualizations such as scatter plots, line plots or histograms first to confirm the correctness of data and find the pattern associate with Target variable and Predictor variables?\n",
    "\n",
    "\n"
   ]
  },
  {
   "cell_type": "markdown",
   "id": "4e3ef32b",
   "metadata": {},
   "source": [
    "###  Future references use (data prep):\n",
    "- There is a research contained a heart prediction system which can help designing a proper model and use the right factors: [LINK1](https://www.researchgate.net/publication/331589020_Heart_Disease_Prediction_System)|[LINK2](https://www.researchgate.net/publication/313785145_Predicting_Risk_Factors_of_Heart_Disease_among_Jordanian_Patients)\n",
    "- Determine related factors or finding raw data to use in model [USA Heart Disease Fact statistics detail](https://usafacts.org/data/topics/people-society/health/health-risk-factors/adults-heart-disease/)|[Percent of angina from adult aged 18 and over](https://wwwn.cdc.gov/NHISDataQueryTool/SHS_adult/index.html)\n",
    "- If the information is not satisfy, consider conducting online questionaire which contains of related factors such as age, sex, anginal pain, maximum heart rate, excercising habit. Simple example of online questionaire will provided in the picture below. \n",
    "<img src=\"https://everhour.com/blog/wp-content/uploads/2017/10/free-form-and-survey-apps-google-forms.gif\"/>\n",
    "- If online questionaire is not satisfy, consider interviewing instead, this is not recommend as it is time consuming and such a waste of money!  "
   ]
  },
  {
   "cell_type": "markdown",
   "id": "0d703924",
   "metadata": {},
   "source": [
    "###  Future references use (data prep)(cont.):\n",
    "\n",
    "**1. Download heart_disease.csv data file first!!! --> then check data roughly by using df.head() and see the first 5 columns**\n",
    "\n",
    "**notes: can data file not be a .csv file? Which type of file is the most convenient to use? [LINK](https://teamtreehouse.com/community/python-databases-vs-csvexcel-files#:~:text=There%20is%20nothing%20specific%20about%20the%20Python%20language,your%20data%20and%20what%20you%27re%20using%20it%20for.) \n",
    "### <span style=\"color:red\"><b>DO NOT forget to put data file and Jupyter Notebook in THE SAME LOCATION!</b></span> \n",
    "\n",
    "**2. If no problems arise, defining predictor variable names, the easy way is to name 'X' and adjust scope or indicate the columns that will take into account in the predictive model.**\n",
    "  - use loc or iloc function to determine which rows and columns I want to use in the heart disease model [How to use](https://towardsdatascience.com/how-to-use-loc-and-iloc-for-selecting-data-in-pandas-bd09cb4c3d79) | [(Thai Ver.)How to use](https://medium.com/data-cafe-thailand/pandas-part-ii-%E0%B8%81%E0%B8%B2%E0%B8%A3%E0%B9%80%E0%B8%A5%E0%B8%B7%E0%B8%AD%E0%B8%81-rows-columns-%E0%B9%81%E0%B8%A5%E0%B8%B0-row-filtering-%E0%B9%83%E0%B8%99-pandas-f2e6c9ca51e5)\n",
    "  - Without .iloc, I can also specify the columns by indicating the number of column (0-n) directly but it it is a time consuming way to do.   \n",
    "  \n",
    "**3. Defining Target variable name, the easy way is to name 'y' and adjust scope or indicate the columns that will take into account in the predictive model.**\n"
   ]
  },
  {
   "cell_type": "code",
   "execution_count": 69,
   "id": "9e83dcc5",
   "metadata": {},
   "outputs": [],
   "source": [
    "df = pd.read_csv('heart_disease.csv')                  # df = DataFrame\n",
    "\n",
    "                                                       # Use pd.read_csv to download and read the dataset in .csv file \n",
    "                                                       # from the system which is the 'heart_disease.csv' file in this case.\n",
    "\n",
    "# \".iloc\" is one of the pandas function use to specifically choose the row and column that I want to use. [row, column]==> \n",
    "# [:,1:len()] means that I will use all rows that the .csv file has --> [:, ]and columns since the second column\n",
    "# (as I will not using the 0 column which is = target variable) to the last column --> [ ,1:len()]  \n",
    "# (by using len function to count the number of columns) into the model that I will be building. \n",
    "X = df.iloc[:,1:len(df.columns)]                       # left side (X) can name whatever I want to name to instantiate\n",
    "                                                       # the right side which is all the predictor variables.\n",
    "    \n",
    "                                                       # Defining predictor variables (named'X') that I want to analyze by \n",
    "                                                       # containing all the featured characteristics that can determine \n",
    "                                                       # Heart Disease (choosing every rows + every columns except the target \n",
    "                                                       # variable (which I named 'y')) as I will need to check the accuracy  \n",
    "                                                       # of the model together with target variable (heart_disease column).\n",
    "                \n",
    "# use \".iloc\" to specifically choose the row and column that I want to use. [row, column]==> [:,0] means that I will use all \n",
    "# rows that the .csv file has --> [:, ] and the only first column (column 0) --> [ ,0] as it is the target variable that I\n",
    "# want to predict.\n",
    "y = df.iloc[:,0]                                       # Named \"y\" in the left side as a instantiate of target variable.\n",
    "\n",
    "                                                       # Defining Target variables (name'y') that is the output of\n",
    "                                                       # the prediction by only choosing the first column in every rows    \n",
    "                                                       # (heart_disease column) as I will need to check the accuracy\n",
    "                                                       # of the model together with predictor variables.\n",
    "                \n",
    "# Why Upper case 'X' and 'y'? I found out that inconclusion, it is because of Descartes said so."
   ]
  },
  {
   "cell_type": "markdown",
   "id": "4fc54a5e",
   "metadata": {},
   "source": [
    " # 4) Modeling "
   ]
  },
  {
   "cell_type": "markdown",
   "id": "cc24d2db",
   "metadata": {},
   "source": [
    "  #### Questions before Modeling \n",
    "- How should I name the instantiate name to be easy to understand in future use? \n",
    "- How much 'max_iter' parameter I should fill so that it will maximize my model accuracy?\n",
    "- Any other parameters from each function I should set? Class_weight? penalty? mode?\n",
    "- What is my criteria to indicate best model?\n",
    "- How to convince others that my model is good enough?\n",
    "- How do conclude and explain this to others in a human language?  "
   ]
  },
  {
   "cell_type": "markdown",
   "id": "9f8c7558",
   "metadata": {},
   "source": [
    "## <span style=\"color:red\"><b>ML PHASE!!!!! Finallyyyyyyy</b></span>\n",
    "\n",
    "###  Future references use (building a model):\n",
    "\n",
    "**1. Create THE MODEL using 'model' as an instantiate name and set it equal to LogisticRegression and carefully set the parameters to reponse the accuracy of the model.**\n",
    "\n",
    "**2. Use model.fit() to estimate parameters in the model and create more accuracy.**\n",
    " - To help understanding better ==> read this stackoverflow explanation!!!!! [LINK](https://stackoverflow.com/questions/45704226/what-does-the-fit-method-in-scikit-learn-do)\n",
    "\n",
    "**3. Predict the target variable by using .predict()**\n",
    " - To help understanding better ==> [LINK](https://machinelearningmastery.com/make-predictions-scikit-learn/)\n",
    " \n",
    "**4. Now! the accuracy of the model can be shown in a form of scale 0-1 by print out accuracy_score from y and predictions model**\n",
    "\n",
    ">### <span style=\"color:red\"><b>Re-check the accuracy score whether is it reasonable enough or is it too high, so that we can improve our model or check the outliers (error) later on (:</b></span>"
   ]
  },
  {
   "cell_type": "code",
   "execution_count": 70,
   "id": "9e5fc98d",
   "metadata": {},
   "outputs": [
    {
     "name": "stdout",
     "output_type": "stream",
     "text": [
      "0.7542087542087542\n"
     ]
    }
   ],
   "source": [
    "model = LogisticRegression(max_iter=800)               # From the .csv file, I want to predict the relationship between\n",
    "                                                       # all predictor variables from Heart Disease information (X) and target \n",
    "                                                       # variable which is whether the person has a Heart Disease or not \n",
    "                                                       # (heart_disease column). Therefore, using LogisticRegression will \n",
    "                                                       # help achieve that. \n",
    "                \n",
    "                                                       # I also indicate the 'max_iter' parameter by 800 to iteratively\n",
    "                                                       # get model to be trained by 800 times. \n",
    "                        \n",
    "                                                       # It is still unclear to me how to determine the number of times \n",
    "                                                       # this parameter should have to improve the accuracy of model?\n",
    "                                                       # The answer I got is that I should try a multiple number to find \n",
    "                                                       # a proper max_iter as the more max_iter I predictor is not determine \n",
    "                                                       # the accuracy of the model I build.\n",
    "                        \n",
    "                                                       # \"model\" is instantiate the relationship between all features \n",
    "                                                       # associate with Heart Disease (X) and whether the person has \n",
    "                                                       # Heart Disease or not (y).\n",
    "\n",
    "model.fit(X,y)                                         # \".fit()\" is a method using to build a model and estimate parameters \n",
    "                                                       # in the model.\n",
    "    \n",
    "                                                       # Is this method helps fit (or train) the model to achieve a \n",
    "                                                       # better accuracy?\n",
    "                                                       # I found out that it does! According to the website: it is always \n",
    "                                                       # required to fit the model after normalizing to improve the accuracy \n",
    "                                                       # of the model.\n",
    "                                                       \n",
    "                                                       # Once defined a model, use .fit() to look into (X,y) and find \n",
    "                                                       # the parameters for 'model' base on (X,y). This step allow me to get \n",
    "                                                       # Heart Disease model consists of all the parameters(X) which will\n",
    "                                                       # allow me to find the value y.\n",
    "\n",
    "predictions = model.predict(X)                         # predictions is the instantiate name for = model.predict(x).\n",
    "\n",
    "                                                       # \".predict()\" is a method using given features predictor variables to \n",
    "                                                       # return the predicted labels which is y or a Target variable \n",
    "                                                       # (Whether the person has a Heart Disease or not?).\n",
    "            \n",
    "print(accuracy_score(y,predictions))                   # print() is the function in python to show the result out.\n",
    "\n",
    "                                                       # In this case, I want to know the accuracy_score of target value\n",
    "                                                       # which is instantiate with y. The result will show in 0-1 scale."
   ]
  },
  {
   "cell_type": "markdown",
   "id": "83a1e8e7",
   "metadata": {},
   "source": [
    "# 5) Deployment"
   ]
  },
  {
   "cell_type": "markdown",
   "id": "adb788c1",
   "metadata": {},
   "source": [
    "#### Questions before creating end-user platform\n",
    "- Which website design platforn should I use? What can streamlit do? Is it free? [https://streamlit.io/]\n",
    "- Should I design a streamlit to save the result of inputs to a DataFrame for future use? YES, to help improving my model in the future!\n",
    "- What are the questions addressed for the patient to answer in the website correctly? \n",
    "- In each question, which number should be set to the minimum and maximum value that a person can answer? What is the inclemental? what value should appear in the answer section that make sense?\n",
    "- After user clicking the showing result button, apart from whether user has a tendency of heart disease or not, should other crucial or useful information regarding the disease pop up also to motivate a person to avoid risk factors more or see the doctor as soon as possible? (Providing example in the pictures below)\n",
    "<img src=\"https://www.financialsamurai.com/wp-content/uploads/2020/04/leading-causes-of-death.png\"/>\n",
    "<img src=\"https://i.pinimg.com/originals/2b/d8/c6/2bd8c638f5a3d3dee7553ccf715fbbc1.png\"/>\n",
    "\n",
    "- Should I create the email input question to send notification regarding heart disease contents ( monitized ads or useful articles) to those who fill out? \n",
    "- Should I allow feedback from user to develop the better version?\n",
    "- How to use authentication to make my app secure?"
   ]
  },
  {
   "cell_type": "markdown",
   "id": "29f026d5",
   "metadata": {},
   "source": [
    "###  Future references use (if I want to deploy):\n",
    "**1. Create new object by using Pickle and name it 'classifier' and instantiate it with pickle_out. Name other parameters as whatever that suit the model the most (See all details by running the code first then click shift+tab).** \n",
    "\n",
    "  - Check whether in the same location, is there a file name 'classifer' appears in that location?\n",
    "\n",
    "**NOTE: we do not have to name it as 'classifier'**\n",
    "\n",
    "**2. Dump the building model into 'classifier' by using .dump()**\n",
    "  - For better understanding ==> [LINK](https://docs.python.org/3/library/pickle.html)\n",
    "  - .dump is different from .dumps so be careful!!!\n",
    "\n",
    "**3. Don't forget to pickle_out.close()** \n",
    "  - Question: Can we leave it open without closing? Answer: If for reading purpose, Yes but if for writing purpose, it can cause a missing data later. ==> stackoverflow!!! [LINK](https://stackoverflow.com/questions/66855334/why-cant-i-close-a-pickle-file#:~:text=Will%20it%20be%20a%20big%20deal%20if%20I,file%20open%20for%20writing%20could%20cause%20missing%20data.)"
   ]
  },
  {
   "cell_type": "code",
   "execution_count": 71,
   "id": "67cea207",
   "metadata": {},
   "outputs": [],
   "source": [
    "pickle_out = open('classifier', mode='wb')             # I am creating a new object called pickle_out. This pickle_out \n",
    "                                                       # object will have a file name 'classifier'. This file will have \n",
    "                                                       # a mode of 'wb' which means I am writing to the file (w) in binary\n",
    "                                                       # mode (b).\n",
    "            \n",
    "pickle.dump(model, pickle_out)                         # \".dump()\" is a method of dumping or putting data into the pickle \n",
    "                                                       # object that I created. In this case, I will dump my model which\n",
    "                                                       # is instantiate from the LogisticRegression model that I built and\n",
    "                                                       # check the accuracy out into the \"pickle_out\" object that I just \n",
    "                                                       # created above.\n",
    "                \n",
    "pickle_out.close()                                     # Use \".close()\" method after I have written my python into the \n",
    "                                                       # pickle_out object. "
   ]
  },
  {
   "cell_type": "code",
   "execution_count": 72,
   "id": "ff22aebe",
   "metadata": {},
   "outputs": [
    {
     "name": "stdout",
     "output_type": "stream",
     "text": [
      "Overwriting app.py\n"
     ]
    }
   ],
   "source": [
    "%%writefile app.py\n",
    "\n",
    "import pickle\n",
    "import streamlit as st\n",
    "\n",
    "pickle_in = open('classifier', 'rb')\n",
    "classifier = pickle.load(pickle_in)\n",
    "\n",
    "@st.cache()\n",
    "\n",
    "# Define the function which will make the prediction using data\n",
    "# inputs from users\n",
    "def prediction(age, sex, non_anginal_pain, \n",
    "               max_heart_rate, exercise_induced_angina):\n",
    "    \n",
    "    # Make predictions\n",
    "    prediction = classifier.predict(\n",
    "        [[age, sex, non_anginal_pain, max_heart_rate, exercise_induced_angina]])\n",
    "    \n",
    "    if prediction == 0:\n",
    "        pred = 'You are probably NOT having a Heart Disease'\n",
    "    else:\n",
    "        pred = 'PLEASE SEE A DOCTOR! You might have a Heart Disease!'\n",
    "    return pred\n",
    "\n",
    "# This is the main function in which we define our webpage\n",
    "def main():\n",
    "    \n",
    "    # Create input fields\n",
    "    age = st.number_input(\"Age in Years\",\n",
    "                          min_value=0,\n",
    "                          max_value=120,\n",
    "                          value=54,\n",
    "                          step=1\n",
    "                         )\n",
    "    sex = st.number_input(\"Sex (Male= 1, Female= 0)\",\n",
    "                                  min_value=0,\n",
    "                                  max_value=1,\n",
    "                                  value=0,\n",
    "                                  step=1,\n",
    "                                 )\n",
    "    non_anginal_pain = st.number_input(\"Have you diagnosed with anginal pain? (Yes= 1, otherwise= 0)\",\n",
    "                              min_value=0,\n",
    "                              max_value=1,\n",
    "                              value=0,\n",
    "                              step=1\n",
    "                             )\n",
    "\n",
    "    max_heart_rate = st.number_input(\"Maximum Heart rate Level (50-250)\",\n",
    "                              min_value=50,\n",
    "                              max_value=250,\n",
    "                              value=150,\n",
    "                              step=1\n",
    "                             )\n",
    "    exercise_induced_angina = st.number_input(\"Is this type of pain arises under the stress of exercise? (Yes= 1, otherwise= 0)\",\n",
    "                          min_value=0,\n",
    "                          max_value=1,\n",
    "                          value=0,\n",
    "                          step=1\n",
    "                         )\n",
    "    result = \"\"\n",
    "    \n",
    "    # When 'Predict' is clicked, make the prediction and store it\n",
    "    if st.button(\"Predict\"):\n",
    "        result = prediction(age, sex, non_anginal_pain, max_heart_rate, exercise_induced_angina)\n",
    "        st.success(result)\n",
    "        \n",
    "if __name__=='__main__':\n",
    "    main()\n",
    "    "
   ]
  },
  {
   "cell_type": "markdown",
   "id": "adf0b009",
   "metadata": {},
   "source": [
    "# 6) Checking final result"
   ]
  },
  {
   "cell_type": "markdown",
   "id": "a378c4fc",
   "metadata": {},
   "source": [
    "### <span style=\"color:red\"><b>Try using it by myself first to check how smooth the process is. Check for the error such as words or mathematical typo!</b></span>"
   ]
  },
  {
   "cell_type": "code",
   "execution_count": null,
   "id": "5522e88b",
   "metadata": {},
   "outputs": [],
   "source": [
    "!streamlit run app.py"
   ]
  },
  {
   "cell_type": "markdown",
   "id": "f0c72a69",
   "metadata": {},
   "source": [
    "<div class=\"alert alert-block alert-warning\">\n",
    "    <h2>FYI: Let friends, family and colleagues do and comment feedback on this end-user website! Gathering all that and update our model later to provide best result!!!! </h2>\n",
    "    </div>"
   ]
  },
  {
   "cell_type": "markdown",
   "id": "f2950f1c",
   "metadata": {},
   "source": [
    "# 7) Additional notes once there're any feedback:"
   ]
  },
  {
   "cell_type": "markdown",
   "id": "ccaba7ef",
   "metadata": {},
   "source": [
    "Fill here"
   ]
  },
  {
   "cell_type": "markdown",
   "id": "2cfa91c0",
   "metadata": {},
   "source": [
    "Fill here"
   ]
  },
  {
   "cell_type": "markdown",
   "id": "a9ab19df",
   "metadata": {},
   "source": [
    "Fill here"
   ]
  }
 ],
 "metadata": {
  "kernelspec": {
   "display_name": "Python 3 (ipykernel)",
   "language": "python",
   "name": "python3"
  },
  "language_info": {
   "codemirror_mode": {
    "name": "ipython",
    "version": 3
   },
   "file_extension": ".py",
   "mimetype": "text/x-python",
   "name": "python",
   "nbconvert_exporter": "python",
   "pygments_lexer": "ipython3",
   "version": "3.10.9"
  }
 },
 "nbformat": 4,
 "nbformat_minor": 5
}
